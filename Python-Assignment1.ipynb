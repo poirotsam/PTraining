{
 "cells": [
  {
   "cell_type": "code",
   "execution_count": null,
   "metadata": {},
   "outputs": [],
   "source": [
    "\"\"\"\n",
    "Questions\n",
    "1. Write a program which will find all such numbers which are divisible by 7 but are not a multiple \n",
    "of 5, between 1000 and 2200 (both included). The numbers obtained should be printed in a \n",
    "comma-separated sequence on a single line. \n",
    "2. Write a Python program to accept the user's first and last name and then getting them printed \n",
    "in the reverse order with a space between first name and last name. \n",
    "3. Write a program to take ten numbers from a user and display the minimum, mean, and \n",
    "maximum of the non-even numbers.  \n",
    "\n",
    "\"\"\""
   ]
  },
  {
   "cell_type": "code",
   "execution_count": 44,
   "metadata": {},
   "outputs": [
    {
     "name": "stdout",
     "output_type": "stream",
     "text": [
      "1015,1050,1085,1120,1155,1190,1225,1260,1295,1330,1365,1400,1435,1470,1505,1540,1575,1610,1645,1680,1715,1750,1785,1820,1855,1890,1925,1960,1995,2030,2065,2100,2135,2170\n"
     ]
    }
   ],
   "source": [
    "#Question 1\n",
    "\n",
    "list1 = []\n",
    "#a = range(1000,2201)\n",
    "for i in range(1000,2201):\n",
    "    if (i % 7 == 0) and (i % 5 == 0):\n",
    "        list1.append(str(i))\n",
    "print(','.join(list1))\n",
    "#print(list1)"
   ]
  },
  {
   "cell_type": "code",
   "execution_count": 38,
   "metadata": {},
   "outputs": [
    {
     "name": "stdout",
     "output_type": "stream",
     "text": [
      "Please enter your First Name: nunayon\n",
      "Please enter your Last Name: samuel\n",
      "Your name is  Nunayon SAMUEL\n"
     ]
    }
   ],
   "source": [
    "#Question 2\n",
    "\n",
    "first = input(\"Please enter your First Name: \") #Type cast as a string\n",
    "last = input(\"Please enter your Last Name: \") #Type cast as a string\n",
    "\n",
    "print(\"Your name is \",first.title(), last.upper())\n",
    "\n"
   ]
  },
  {
   "cell_type": "code",
   "execution_count": 37,
   "metadata": {},
   "outputs": [
    {
     "name": "stdout",
     "output_type": "stream",
     "text": [
      "Please enter First Number: 1\n",
      "Please enter a Number: 2\n",
      "Please enter a Number: 3\n",
      "Please enter a Number: 4\n",
      "Please enter a Number: 5\n",
      "Please enter a Number: 6\n",
      "Please enter a Number: 7\n",
      "Please enter a Number: 8\n",
      "Please enter a Number: 9\n",
      "Please enter Last Number: 10\n",
      "The List is [1, 2, 3, 4, 5, 6, 7, 8, 9, 10]\n",
      "Smallest Number is 1\n",
      "Largest Number is 10\n",
      "The Mean of the numbers is  5.5\n"
     ]
    }
   ],
   "source": [
    "#Question 3\n",
    "\n",
    "x = []\n",
    "x.append(int(input(\"Please enter First Number: \"))) \n",
    "for i in range(8):\n",
    "    x.append(int(input(\"Please enter a Number: \"))) \n",
    "x.append(int(input(\"Please enter Last Number: \"))) \n",
    "x.sort()\n",
    "print(\"The List is\", x)\n",
    "print(\"Smallest Number is\", x[0])\n",
    "print(\"Largest Number is\", x[-1])\n",
    "print(\"The Mean of the numbers is \", sum(x)/10)"
   ]
  }
 ],
 "metadata": {
  "kernelspec": {
   "display_name": "Python 3",
   "language": "python",
   "name": "python3"
  }
 },
 "nbformat": 4,
 "nbformat_minor": 4
}
